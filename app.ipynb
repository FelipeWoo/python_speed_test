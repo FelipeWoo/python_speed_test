{
 "cells": [
  {
   "cell_type": "markdown",
   "source": [
    "# Speed test with Python"
   ],
   "metadata": {}
  },
  {
   "cell_type": "markdown",
   "source": [
    "# Basic Code "
   ],
   "metadata": {}
  },
  {
   "cell_type": "code",
   "execution_count": 2,
   "source": [
    "#Libraries\n",
    "import speedtest\n",
    "import datetime\n",
    "import pprint\n",
    "import csv\n",
    "import matplotlib.pyplot as plt\n",
    "import pandas as pd"
   ],
   "outputs": [],
   "metadata": {}
  },
  {
   "cell_type": "code",
   "execution_count": 118,
   "source": [
    "# Create the database\n",
    "with open('Speedtest.csv', 'w') as csv_file:\n",
    "    headnames = ['time','download','upload','ping','isp','ip']\n",
    "    keyboard = csv.DictWriter(csv_file, fieldnames=headnames)\n",
    "    keyboard.writeheader()"
   ],
   "outputs": [],
   "metadata": {}
  },
  {
   "cell_type": "code",
   "execution_count": 3,
   "source": [
    "# Get server values\n",
    "bits_in_Megabits = 1048576 # 2^20\n",
    "s = speedtest.Speedtest()\n",
    "s.get_best_server()\n",
    "print('Process Done!')"
   ],
   "outputs": [
    {
     "output_type": "stream",
     "name": "stdout",
     "text": [
      "Process Done!\n"
     ]
    }
   ],
   "metadata": {}
  },
  {
   "cell_type": "markdown",
   "source": [
    "# Cicle code"
   ],
   "metadata": {}
  },
  {
   "cell_type": "code",
   "execution_count": 7,
   "source": [
    "# Run as many times you want\n",
    "s.download()\n",
    "s.upload()\n",
    "res = s.results.dict()\n",
    "\n",
    "with open('Speedtest.csv', 'a') as csv_file:\n",
    "    keyboard = csv.writer(csv_file)\n",
    "\n",
    "\n",
    "    time = datetime.datetime.now().strftime(\"%d/%m/%y %H:%M:%S\")\n",
    "    download = round(res[\"download\"]/bits_in_Megabits,2)\n",
    "    upload = round(res[\"upload\"]/bits_in_Megabits,2)\n",
    "    ping = round(res[\"ping\"])\n",
    "    isp = res[\"client\"][\"isp\"]\n",
    "    ip = res[\"client\"][\"ip\"]\n",
    "    keyboard.writerow([time,download,upload,ping,isp,ip])\n",
    "\n",
    "print('Process Done!')"
   ],
   "outputs": [
    {
     "output_type": "stream",
     "name": "stdout",
     "text": [
      "Process Done!\n"
     ]
    }
   ],
   "metadata": {}
  },
  {
   "cell_type": "code",
   "execution_count": 121,
   "source": [
    "# Print the whole data\n",
    "#Uncomment# pprint.pprint(res, width=1)\n"
   ],
   "outputs": [],
   "metadata": {}
  },
  {
   "cell_type": "code",
   "execution_count": 8,
   "source": [
    "# Graph the values\n",
    "\n",
    "df = pd.read_csv('Speedtest.csv')\n",
    "\n",
    "t = df['time']\n",
    "down = df['download']\n",
    "up = df['upload']\n",
    "mean_download = df[\"download\"].mean()\n",
    "mean_upload = df[\"upload\"].mean()\n",
    "\n",
    "fig, ax = plt.subplots()\n",
    "\n",
    "ax.plot_date(t, down, color='#EA917E', linestyle='-')\n",
    "ax.plot_date(t, up, color='#81C4EC', linestyle='-')\n",
    "ax.axhline(y=mean_download, color='r', linestyle='--')\n",
    "ax.axhline(y=mean_upload, color='b', linestyle='--')\n",
    "\n",
    "fig.autofmt_xdate()\n",
    "plt.show()\n",
    "\n"
   ],
   "outputs": [
    {
     "output_type": "display_data",
     "data": {
      "image/png": "[encoded data removed]",
      "text/plain": [
       "<Figure size 432x288 with 1 Axes>"
      ]
     },
     "metadata": {
      "needs_background": "light"
     }
    }
   ],
   "metadata": {}
  }
 ],
 "metadata": {
  "orig_nbformat": 4,
  "language_info": {
   "name": "python",
   "version": "3.8.10",
   "mimetype": "text/x-python",
   "codemirror_mode": {
    "name": "ipython",
    "version": 3
   },
   "pygments_lexer": "ipython3",
   "nbconvert_exporter": "python",
   "file_extension": ".py"
  },
  "kernelspec": {
   "name": "python3",
   "display_name": "Python 3.8.10 64-bit ('venv': venv)"
  },
  "interpreter": {
   "hash": "61abd8fec609dfef2ad245c79d814289312720c61973e6c6b3f88af7d08251ac"
  }
 },
 "nbformat": 4,
 "nbformat_minor": 2
}