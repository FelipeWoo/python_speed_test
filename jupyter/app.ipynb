{
 "cells": [
  {
   "cell_type": "markdown",
   "source": [
    "# Speed test with Python"
   ],
   "metadata": {}
  },
  {
   "cell_type": "code",
   "execution_count": 5,
   "source": [
    "# Libraries\n",
    "!pip install matplotlib\n",
    "!pip install speedtest-cli\n",
    "!pip install pandas\n",
    "!pip install pprint"
   ],
   "outputs": [
    {
     "output_type": "stream",
     "name": "stdout",
     "text": [
      "Requirement already satisfied: matplotlib in /home/sigma/Documents/Projects/Python/python_speed_test/venv/lib/python3.8/site-packages (3.4.3)\n",
      "Requirement already satisfied: pillow>=6.2.0 in /home/sigma/Documents/Projects/Python/python_speed_test/venv/lib/python3.8/site-packages (from matplotlib) (8.3.2)\n",
      "Requirement already satisfied: numpy>=1.16 in /home/sigma/Documents/Projects/Python/python_speed_test/venv/lib/python3.8/site-packages (from matplotlib) (1.21.2)\n",
      "Requirement already satisfied: python-dateutil>=2.7 in /home/sigma/Documents/Projects/Python/python_speed_test/venv/lib/python3.8/site-packages (from matplotlib) (2.8.2)\n",
      "Requirement already satisfied: kiwisolver>=1.0.1 in /home/sigma/Documents/Projects/Python/python_speed_test/venv/lib/python3.8/site-packages (from matplotlib) (1.3.2)\n",
      "Requirement already satisfied: pyparsing>=2.2.1 in /home/sigma/Documents/Projects/Python/python_speed_test/venv/lib/python3.8/site-packages (from matplotlib) (2.4.7)\n",
      "Requirement already satisfied: cycler>=0.10 in /home/sigma/Documents/Projects/Python/python_speed_test/venv/lib/python3.8/site-packages (from matplotlib) (0.10.0)\n",
      "Requirement already satisfied: six in /home/sigma/Documents/Projects/Python/python_speed_test/venv/lib/python3.8/site-packages (from cycler>=0.10->matplotlib) (1.16.0)\n",
      "Collecting speedtest-cli\n",
      "  Downloading speedtest_cli-2.1.3-py2.py3-none-any.whl (23 kB)\n",
      "Installing collected packages: speedtest-cli\n",
      "Successfully installed speedtest-cli-2.1.3\n"
     ]
    }
   ],
   "metadata": {}
  },
  {
   "cell_type": "markdown",
   "source": [
    "# Basic Code "
   ],
   "metadata": {}
  },
  {
   "cell_type": "code",
   "execution_count": 109,
   "source": [
    "\n",
    "import speedtest\n",
    "import datetime\n",
    "import pprint\n",
    "import csv\n",
    "import matplotlib.pyplot as plt\n",
    "import pandas as pd"
   ],
   "outputs": [],
   "metadata": {}
  },
  {
   "cell_type": "code",
   "execution_count": 110,
   "source": [
    "with open('Speedtest.csv', 'w') as csv_file:\n",
    "    headnames = ['time','download','upload','ping','isp','ip']\n",
    "    keyboard = csv.DictWriter(csv_file, fieldnames=headnames)\n",
    "    keyboard.writeheader()"
   ],
   "outputs": [],
   "metadata": {}
  },
  {
   "cell_type": "code",
   "execution_count": 111,
   "source": [
    "bits_in_Megabits = 1048576 # 2^20\n",
    "s = speedtest.Speedtest()\n",
    "s.get_best_server()\n"
   ],
   "outputs": [
    {
     "output_type": "execute_result",
     "data": {
      "text/plain": [
       "{'url': 'http://187.190.241.18:8080/speedtest/upload.php',\n",
       " 'lat': '20.6416',\n",
       " 'lon': '-103.3161',\n",
       " 'name': 'Tlaquepaque',\n",
       " 'country': 'Mexico',\n",
       " 'cc': 'MX',\n",
       " 'sponsor': 'Totalplay',\n",
       " 'id': '8880',\n",
       " 'host': '187.190.241.18:8080',\n",
       " 'd': 558.127632228536,\n",
       " 'latency': 81.94}"
      ]
     },
     "metadata": {},
     "execution_count": 111
    }
   ],
   "metadata": {}
  },
  {
   "cell_type": "markdown",
   "source": [
    "# Cicle code"
   ],
   "metadata": {}
  },
  {
   "cell_type": "code",
   "execution_count": 115,
   "source": [
    "\n",
    "s.download()\n",
    "s.upload()\n",
    "res = s.results.dict()\n",
    "\n",
    "with open('Speedtest.csv', 'a') as csv_file:\n",
    "    keyboard = csv.writer(csv_file)\n",
    "    \n",
    "\n",
    "    time = datetime.datetime.now().strftime(\"%d/%m/%y %H:%M:%S\")\n",
    "    download = round(res[\"download\"]/bits_in_Megabits,2)\n",
    "    upload = round(res[\"upload\"]/bits_in_Megabits,2)\n",
    "    ping = round(res[\"ping\"])\n",
    "    isp = res[\"client\"][\"isp\"]\n",
    "    ip = res[\"client\"][\"ip\"]\n",
    "\n",
    "    keyboard.writerow([time,download,upload,ping,isp,ip])"
   ],
   "outputs": [],
   "metadata": {}
  },
  {
   "cell_type": "code",
   "execution_count": 113,
   "source": [
    "\n",
    "pprint.pprint(res, width=1)"
   ],
   "outputs": [
    {
     "output_type": "stream",
     "name": "stdout",
     "text": [
      "{'bytes_received': 90300781,\n",
      " 'bytes_sent': 105619456,\n",
      " 'client': {'country': 'MX',\n",
      "            'ip': '189.143.152.117',\n",
      "            'isp': 'Telmex',\n",
      "            'ispdlavg': '0',\n",
      "            'isprating': '3.7',\n",
      "            'ispulavg': '0',\n",
      "            'lat': '16.9573',\n",
      "            'loggedin': '0',\n",
      "            'lon': '-99.7143',\n",
      "            'rating': '0'},\n",
      " 'download': 72030847.85627565,\n",
      " 'ping': 81.94,\n",
      " 'server': {'cc': 'MX',\n",
      "            'country': 'Mexico',\n",
      "            'd': 558.127632228536,\n",
      "            'host': '187.190.241.18:8080',\n",
      "            'id': '8880',\n",
      "            'lat': '20.6416',\n",
      "            'latency': 81.94,\n",
      "            'lon': '-103.3161',\n",
      "            'name': 'Tlaquepaque',\n",
      "            'sponsor': 'Totalplay',\n",
      "            'url': 'http://187.190.241.18:8080/speedtest/upload.php'},\n",
      " 'share': None,\n",
      " 'timestamp': '2021-09-29T01:23:39.252262Z',\n",
      " 'upload': 78842305.10041389}\n"
     ]
    }
   ],
   "metadata": {}
  },
  {
   "cell_type": "code",
   "execution_count": 116,
   "source": [
    "\n",
    "\n",
    "df = pd.read_csv('Speedtest.csv')\n",
    "\n",
    "\n",
    "\n",
    "t = df['time']\n",
    "down = df['download']\n",
    "up = df['upload']\n",
    "mean_download = df[\"download\"].mean()\n",
    "mean_upload = df[\"upload\"].mean()\n",
    "\n",
    "fig, ax = plt.subplots()\n",
    "\n",
    "ax.plot_date(t, down, color='#EA917E', linestyle='-')\n",
    "ax.plot_date(t, up, color='#81C4EC', linestyle='-')\n",
    "ax.axhline(y=mean_download, color='r', linestyle='--')\n",
    "ax.axhline(y=mean_upload, color='b', linestyle='--')\n",
    "\n",
    "fig.autofmt_xdate()\n",
    "plt.show()\n",
    "\n"
   ],
   "outputs": [
    {
     "output_type": "display_data",
     "data": {
      "image/png": "[encoded data removed]",
      "text/plain": [
       "<Figure size 432x288 with 1 Axes>"
      ]
     },
     "metadata": {
      "needs_background": "light"
     }
    }
   ],
   "metadata": {}
  }
 ],
 "metadata": {
  "orig_nbformat": 4,
  "language_info": {
   "name": "python",
   "version": "3.8.10",
   "mimetype": "text/x-python",
   "codemirror_mode": {
    "name": "ipython",
    "version": 3
   },
   "pygments_lexer": "ipython3",
   "nbconvert_exporter": "python",
   "file_extension": ".py"
  },
  "kernelspec": {
   "name": "python3",
   "display_name": "Python 3.8.10 64-bit ('venv': venv)"
  },
  "interpreter": {
   "hash": "61abd8fec609dfef2ad245c79d814289312720c61973e6c6b3f88af7d08251ac"
  }
 },
 "nbformat": 4,
 "nbformat_minor": 2
}