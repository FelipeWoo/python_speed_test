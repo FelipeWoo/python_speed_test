{
 "cells": [
  {
   "cell_type": "code",
   "execution_count": null,
   "source": [],
   "outputs": [],
   "metadata": {}
  }
 ],
 "metadata": {
  "orig_nbformat": 4,
  "language_info": {
   "name": "python",
   "version": "3.8.10"
  },
  "kernelspec": {
   "name": "python3",
   "display_name": "Python 3.8.10 64-bit ('venv': venv)"
  },
  "interpreter": {
   "hash": "61abd8fec609dfef2ad245c79d814289312720c61973e6c6b3f88af7d08251ac"
  }
 },
 "nbformat": 4,
 "nbformat_minor": 2
}